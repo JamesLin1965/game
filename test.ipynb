{
 "cells": [
  {
   "cell_type": "code",
   "execution_count": null,
   "metadata": {},
   "outputs": [],
   "source": [
    "print('test2')"
   ]
  },
  {
   "cell_type": "code",
   "execution_count": null,
   "metadata": {},
   "outputs": [],
   "source": [
    "a=1\n",
    "b=2\n",
    "c=a+b\n",
    "print(c)"
   ]
  },
  {
   "cell_type": "code",
   "execution_count": null,
   "metadata": {},
   "outputs": [],
   "source": [
    "a=b=20\n",
    "c=a+b\n",
    "print(c)"
   ]
  },
  {
   "cell_type": "code",
   "execution_count": null,
   "metadata": {},
   "outputs": [],
   "source": [
    "c1=True\n",
    "c2=False\n",
    "print(type (c1))"
   ]
  },
  {
   "cell_type": "code",
   "execution_count": null,
   "metadata": {},
   "outputs": [],
   "source": [
    "## 字串說明"
   ]
  },
  {
   "cell_type": "code",
   "execution_count": null,
   "metadata": {},
   "outputs": [],
   "source": [
    "a1=100\n",
    "a2=300\n",
    "a1+a2"
   ]
  },
  {
   "cell_type": "code",
   "execution_count": null,
   "metadata": {},
   "outputs": [],
   "source": [
    "a1=100\n",
    "a2='300'\n",
    "print((a1)+int(a2))"
   ]
  },
  {
   "cell_type": "code",
   "execution_count": null,
   "metadata": {},
   "outputs": [],
   "source": [
    "a1=100\n",
    "a2='300'\n",
    "print (str(a1)+a2)\n"
   ]
  },
  {
   "cell_type": "code",
   "execution_count": null,
   "metadata": {},
   "outputs": [],
   "source": [
    "a=input('請輸入資料:')\n",
    "msg='您輸入的資料是：'+a\n",
    "print(msg)"
   ]
  },
  {
   "cell_type": "code",
   "execution_count": null,
   "metadata": {},
   "outputs": [],
   "source": [
    "a=input('請輸入資料:')\n",
    "msg=f\"您輸入的資料是：{a}\"\n",
    "print(msg)"
   ]
  },
  {
   "cell_type": "code",
   "execution_count": null,
   "metadata": {},
   "outputs": [],
   "source": [
    "a=input('請輸入一個數值:')\n",
    "msg=f\"您輸入的數值+1000是：{int(a)+1000}\"\n",
    "print(msg)"
   ]
  },
  {
   "cell_type": "code",
   "execution_count": null,
   "metadata": {},
   "outputs": [],
   "source": [
    "國文=int(input('請輸入國文成績:'))\n",
    "英文=int(input('請輸入英文成績:'))\n",
    "數學=int(input('請輸入數學成績:'))\n",
    "msg1=f\"三科總成績是：{國文+英文+數學}；\"\n",
    "msg2=f\"三科總平均是：{(國文+英文+數學)/3}\"\n",
    "print(msg1,msg2)"
   ]
  },
  {
   "cell_type": "code",
   "execution_count": null,
   "metadata": {},
   "outputs": [],
   "source": [
    "密碼=input('請輸入密碼:')\n",
    "if 密碼 == '1234':\n",
    "    print('密碼正確')\n",
    "else:\n",
    "    print('密碼錯誤')\n"
   ]
  },
  {
   "cell_type": "code",
   "execution_count": null,
   "metadata": {},
   "outputs": [],
   "source": [
    "成績=int(input('請輸入成績:'))\n",
    "if 成績>=90:\n",
    "    print('A級')\n",
    "elif 成績>80 and 成績<89:\n",
    "    print('B級')\n",
    "elif 成績>70 and 成績<79:\n",
    "    print('C級')\n",
    "elif 成績>60 and 成績<69:\n",
    "    print('D級')\n",
    "else:\n",
    "    print('E級')"
   ]
  },
  {
   "cell_type": "code",
   "execution_count": null,
   "metadata": {},
   "outputs": [],
   "source": [
    "成績=int(input('請輸入成績:'))\n",
    "等級='E級'\n",
    "if 等級>=60:\n",
    "    等級='D級'\n",
    "        if 等級>70: \n",
    "            等級='C級'\n",
    "               if 等級>80:\n",
    "                    等級='B級'\n",
    "                        if 等級>90:\n",
    "print(f\"你輸入的分數是：{成績}\",\"你輸入的等級是：{等級}\")\n",
    "    "
   ]
  },
  {
   "cell_type": "code",
   "execution_count": null,
   "metadata": {},
   "outputs": [],
   "source": [
    "print (1 or 1)"
   ]
  },
  {
   "cell_type": "code",
   "execution_count": null,
   "metadata": {},
   "outputs": [],
   "source": [
    "for i in[1,2,3]:\n",
    "    print(i)"
   ]
  },
  {
   "cell_type": "code",
   "execution_count": null,
   "metadata": {},
   "outputs": [],
   "source": [
    "for i in range(1,100,10):\n",
    "    print(i,end='\\t')"
   ]
  },
  {
   "cell_type": "code",
   "execution_count": null,
   "metadata": {},
   "outputs": [],
   "source": [
    "ran=int(input('請輸入數值:'))\n",
    "for i in range(1,ran+1,1):\n",
    "    print(i,end=' ')"
   ]
  },
  {
   "cell_type": "code",
   "execution_count": null,
   "metadata": {},
   "outputs": [],
   "source": [
    "ran=int(input('請輸入數值:'))\n",
    "total=0\n",
    "for i in range(1,ran+1):\n",
    "    total +=i\n",
    "print(total)    \n"
   ]
  },
  {
   "cell_type": "code",
   "execution_count": null,
   "metadata": {},
   "outputs": [],
   "source": [
    "num=int(input('請輸入數值:'))\n",
    "row=num\n",
    "for i in range(1,row+1):\n",
    "    print(\"#\"*i)"
   ]
  },
  {
   "cell_type": "code",
   "execution_count": null,
   "metadata": {},
   "outputs": [],
   "source": [
    "def find_lcm(a, b):\n",
    "    # 先找出最大公因數（GCD）\n",
    "    def gcd(x, y):\n",
    "        while y:\n",
    "            x, y = y, x % y\n",
    "        return x\n",
    "\n",
    "    # 利用公式 LCM(a, b) = abs(a * b) // GCD(a, b)\n",
    "    return abs(a * b) // gcd(a, b)\n",
    "\n",
    "num1 = int(input(\"請輸入第一個數字：\"))\n",
    "num2 = int(input(\"請輸入第二個數字：\"))\n",
    "\n",
    "lcm = find_lcm(num1, num2)\n",
    "print(f\"{num1} 和 {num2} 的最小公倍數是：{lcm}\")"
   ]
  },
  {
   "cell_type": "code",
   "execution_count": null,
   "metadata": {},
   "outputs": [],
   "source": [
    "while (1):\n",
    "    print(1)"
   ]
  },
  {
   "cell_type": "code",
   "execution_count": null,
   "metadata": {},
   "outputs": [],
   "source": [
    "# 初始化變數\n",
    "i = 1\n",
    "total = 0\n",
    "\n",
    "# 使用 while 迴圈\n",
    "while i <= 10:\n",
    "    total += i\n",
    "    i += 1\n",
    "\n",
    "print(\"1 加到 10 的總和是：\", total)"
   ]
  },
  {
   "cell_type": "code",
   "execution_count": null,
   "metadata": {},
   "outputs": [],
   "source": [
    "import random\n",
    "\n",
    "# 產生 1 到 100 的隨機整數\n",
    "secret_number = random.randint(1, 100)\n",
    "\n",
    "print(\"歡迎來玩猜數字遊戲！\")\n",
    "print(\"我想了一個 1 到 100 的數字，您能猜中嗎？\")\n",
    "\n",
    "# 進入猜測迴圈\n",
    "guess = None\n",
    "attempts = 0\n",
    "\n",
    "while guess != secret_number:\n",
    "    guess = int(input(\"請輸入你的猜測：\"))\n",
    "    attempts += 1\n",
    "\n",
    "    if guess < secret_number:\n",
    "        print(\"太小了！再試一次。\")\n",
    "    elif guess > secret_number:\n",
    "        print(\"太大了！再試一次。\")\n",
    "    else:\n",
    "        print(f\"恭喜你猜中了！答案是 {secret_number}，你總共猜了 {attempts} 次。\")"
   ]
  },
  {
   "cell_type": "code",
   "execution_count": null,
   "metadata": {},
   "outputs": [],
   "source": [
    "inport os"
   ]
  }
 ],
 "metadata": {
  "kernelspec": {
   "display_name": "Python 3",
   "language": "python",
   "name": "python3"
  },
  "language_info": {
   "codemirror_mode": {
    "name": "ipython",
    "version": 3
   },
   "file_extension": ".py",
   "mimetype": "text/x-python",
   "name": "python",
   "nbconvert_exporter": "python",
   "pygments_lexer": "ipython3",
   "version": "3.6.4"
  }
 },
 "nbformat": 4,
 "nbformat_minor": 2
}
